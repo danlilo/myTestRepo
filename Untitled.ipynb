{
 "cells": [
  {
   "cell_type": "code",
   "execution_count": 1,
   "metadata": {},
   "outputs": [
    {
     "name": "stdout",
     "output_type": "stream",
     "text": [
      "What is your name?Harold\n",
      "Hello, Harold!\n"
     ]
    }
   ],
   "source": [
    "name = input(\"What is your name?\")\n",
    "print (f\"Hello, {name}!\")"
   ]
  },
  {
   "cell_type": "code",
   "execution_count": 1,
   "metadata": {},
   "outputs": [
    {
     "name": "stdout",
     "output_type": "stream",
     "text": [
      "\n",
      "Do you like sugar puffs?\n",
      "'Y' - Yes\n",
      "'n' - No\n",
      "Y\n",
      "Y\n",
      "Tut tut!\n"
     ]
    }
   ],
   "source": [
    "inputVar = input(\"\"\"\n",
    "Do you like sugar puffs?\n",
    "\\'Y' - Yes\n",
    "\\'n' - No\n",
    "\"\"\")\n",
    "\n",
    "print(inputVar)\n",
    "\n",
    "if inputVar == 'Y':\n",
    "    responce = 'Tut tut!'\n",
    "elif inputVar == 'n':\n",
    "    responce = 'Just as well, they are bad for your teeth!'\n",
    "    \n",
    "print(responce)"
   ]
  },
  {
   "cell_type": "code",
   "execution_count": null,
   "metadata": {},
   "outputs": [],
   "source": []
  },
  {
   "cell_type": "code",
   "execution_count": null,
   "metadata": {},
   "outputs": [],
   "source": []
  },
  {
   "cell_type": "code",
   "execution_count": null,
   "metadata": {},
   "outputs": [],
   "source": []
  },
  {
   "cell_type": "code",
   "execution_count": null,
   "metadata": {},
   "outputs": [],
   "source": []
  }
 ],
 "metadata": {
  "kernelspec": {
   "display_name": "Python 3",
   "language": "python",
   "name": "python3"
  },
  "language_info": {
   "codemirror_mode": {
    "name": "ipython",
    "version": 3
   },
   "file_extension": ".py",
   "mimetype": "text/x-python",
   "name": "python",
   "nbconvert_exporter": "python",
   "pygments_lexer": "ipython3",
   "version": "3.7.1"
  }
 },
 "nbformat": 4,
 "nbformat_minor": 4
}
